{
 "cells": [
  {
   "cell_type": "code",
   "execution_count": 1,
   "metadata": {},
   "outputs": [
    {
     "output_type": "execute_result",
     "data": {
      "text/plain": "'\\npandas es una biblioteca de software escrita como extensión de NumPy\\n\\nEn particular, ofrece estructuras de datos y operaciones para manipular tablas numéricas y series temporales\\n'"
     },
     "metadata": {},
     "execution_count": 1
    }
   ],
   "source": [
    "# 44 Pandas\n",
    "'''\n",
    "pandas es una biblioteca de software escrita como extensión de NumPy\n",
    "\n",
    "En particular, ofrece estructuras de datos y operaciones para manipular tablas numéricas y series temporales\n",
    "'''"
   ]
  },
  {
   "cell_type": "code",
   "execution_count": 2,
   "metadata": {},
   "outputs": [
    {
     "output_type": "execute_result",
     "data": {
      "text/plain": "0        3\n1        5\n2        7\n3       52\n4    Ramen\ndtype: object"
     },
     "metadata": {},
     "execution_count": 2
    }
   ],
   "source": [
    "import pandas as pd\n",
    "# creando una serie con pandas\n",
    "\n",
    "serie = pd.Series([3,5,7,52,'Ramen'])\n",
    "serie"
   ]
  },
  {
   "cell_type": "code",
   "execution_count": 3,
   "metadata": {},
   "outputs": [
    {
     "output_type": "execute_result",
     "data": {
      "text/plain": "'Ramen'"
     },
     "metadata": {},
     "execution_count": 3
    }
   ],
   "source": [
    "# accediendo por el índice autogenerado\n",
    "\n",
    "serie[4]"
   ]
  },
  {
   "cell_type": "code",
   "execution_count": 4,
   "metadata": {},
   "outputs": [
    {
     "output_type": "execute_result",
     "data": {
      "text/plain": "Ejercicio     9\nDucha        10\nDesayuno     11\nCoding       12\ndtype: int64"
     },
     "metadata": {},
     "execution_count": 4
    }
   ],
   "source": [
    "# generando un índice\n",
    "hora = [9,10,11,12]\n",
    "accion = ['Ejercicio','Ducha','Desayuno','Coding']\n",
    "\n",
    "s2 = pd.Series(hora,index=accion)\n",
    "s2"
   ]
  },
  {
   "cell_type": "code",
   "execution_count": 5,
   "metadata": {},
   "outputs": [
    {
     "output_type": "execute_result",
     "data": {
      "text/plain": "10"
     },
     "metadata": {},
     "execution_count": 5
    }
   ],
   "source": [
    "# accediendo por nuestro índice\n",
    "s2['Ducha']"
   ]
  },
  {
   "cell_type": "code",
   "execution_count": 6,
   "metadata": {},
   "outputs": [
    {
     "output_type": "execute_result",
     "data": {
      "text/plain": "Ducha       10\nDesayuno    11\nCoding      12\ndtype: int64"
     },
     "metadata": {},
     "execution_count": 6
    }
   ],
   "source": [
    "# Podemos usar operadores de comparación\n",
    "\n",
    "s2[s2 >= 10]"
   ]
  },
  {
   "cell_type": "code",
   "execution_count": 7,
   "metadata": {},
   "outputs": [
    {
     "output_type": "execute_result",
     "data": {
      "text/plain": "Ejercicio     9\nDucha        10\nDesayuno     11\nCoding       12\nName: HORARIO, dtype: int64"
     },
     "metadata": {},
     "execution_count": 7
    }
   ],
   "source": [
    "# Podemos nombrar las series\n",
    "\n",
    "s2.name = 'HORARIO'\n",
    "s2"
   ]
  },
  {
   "cell_type": "code",
   "execution_count": 8,
   "metadata": {},
   "outputs": [
    {
     "output_type": "execute_result",
     "data": {
      "text/plain": "TO-DO\nEjercicio     9\nDucha        10\nDesayuno     11\nCoding       12\nName: HORARIO, dtype: int64"
     },
     "metadata": {},
     "execution_count": 8
    }
   ],
   "source": [
    "# y tambien los índices\n",
    "\n",
    "s2.index.name = 'TO-DO'\n",
    "s2"
   ]
  },
  {
   "cell_type": "code",
   "execution_count": 9,
   "metadata": {},
   "outputs": [
    {
     "output_type": "stream",
     "name": "stdout",
     "text": "{'Ejercicio': 9, 'Ducha': 10, 'Desayuno': 11, 'Coding': 12}\n"
    },
    {
     "output_type": "execute_result",
     "data": {
      "text/plain": "Ejercicio     9\nDucha        10\nDesayuno     11\nCoding       12\ndtype: int64"
     },
     "metadata": {},
     "execution_count": 9
    }
   ],
   "source": [
    "# podemos convertir las series a diccionarios y viversa.\n",
    "# pero los diccionarios no tienen manera de guardar los nombres\n",
    "\n",
    "d2 = s2.to_dict()\n",
    "s3 = pd.Series(d2)\n",
    "print(d2)\n",
    "s3"
   ]
  },
  {
   "cell_type": "code",
   "execution_count": 10,
   "metadata": {},
   "outputs": [
    {
     "output_type": "execute_result",
     "data": {
      "text/plain": "BBDD    5.5\nPOO     5.5\nOS      6.5\ndtype: float64"
     },
     "metadata": {},
     "execution_count": 10
    }
   ],
   "source": [
    "# Podemos operar con las series.\n",
    "# vamos a sacar la media de las notas de 3 asignaturas\n",
    "s_asignaturas = ['BBDD','POO','OS']\n",
    "notas1 = [7,3,7]\n",
    "notas2 = [4,8,6]\n",
    "\n",
    "s_notas1 = pd.Series(notas1, index=s_asignaturas)\n",
    "s_notas2 = pd.Series(notas2, index=s_asignaturas)\n",
    "\n",
    "s_clase = (s_notas1 + s_notas2)/2\n",
    "\n",
    "s_clase\n"
   ]
  },
  {
   "cell_type": "code",
   "execution_count": null,
   "metadata": {},
   "outputs": [],
   "source": []
  }
 ],
 "metadata": {
  "kernelspec": {
   "display_name": "Python 3.8.2 64-bit",
   "language": "python",
   "name": "python38264bit0d89407e10104d4f89d7b40f85d57db9"
  },
  "language_info": {
   "codemirror_mode": {
    "name": "ipython",
    "version": 3
   },
   "file_extension": ".py",
   "mimetype": "text/x-python",
   "name": "python",
   "nbconvert_exporter": "python",
   "pygments_lexer": "ipython3",
   "version": "3.8.2-final"
  }
 },
 "nbformat": 4,
 "nbformat_minor": 4
}