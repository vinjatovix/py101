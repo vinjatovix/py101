{
 "cells": [
  {
   "cell_type": "code",
   "execution_count": 1,
   "metadata": {},
   "outputs": [],
   "source": [
    "# 48 Ordenar y clasificar series"
   ]
  },
  {
   "cell_type": "code",
   "execution_count": 3,
   "metadata": {},
   "outputs": [],
   "source": [
    "import pandas as pd\n",
    "import numpy as np"
   ]
  },
  {
   "cell_type": "code",
   "execution_count": 50,
   "metadata": {},
   "outputs": [
    {
     "data": {
      "text/plain": [
       "0    0.273294\n",
       "1    2.440416\n",
       "2    1.118326\n",
       "3    0.590416\n",
       "4   -0.838060\n",
       "5   -1.612084\n",
       "6   -0.884848\n",
       "7   -0.066253\n",
       "8   -1.971906\n",
       "9   -0.892341\n",
       "dtype: float64"
      ]
     },
     "execution_count": 50,
     "metadata": {},
     "output_type": "execute_result"
    }
   ],
   "source": [
    "# vamos a generar una serie con valores aleatorios\n",
    "serie = pd.Series(np.random.randn(10))\n",
    "serie"
   ]
  },
  {
   "cell_type": "code",
   "execution_count": 53,
   "metadata": {},
   "outputs": [
    {
     "data": {
      "text/plain": [
       "0     7.0\n",
       "1    10.0\n",
       "2     9.0\n",
       "3     8.0\n",
       "4     5.0\n",
       "5     2.0\n",
       "6     4.0\n",
       "7     6.0\n",
       "8     1.0\n",
       "9     3.0\n",
       "dtype: float64"
      ]
     },
     "execution_count": 53,
     "metadata": {},
     "output_type": "execute_result"
    }
   ],
   "source": [
    "# con rank() obtenemos un ranking de menor a mayor\n",
    "serie.rank()"
   ]
  },
  {
   "cell_type": "code",
   "execution_count": 55,
   "metadata": {},
   "outputs": [
    {
     "data": {
      "text/plain": [
       "8   -1.971906\n",
       "5   -1.612084\n",
       "9   -0.892341\n",
       "6   -0.884848\n",
       "4   -0.838060\n",
       "7   -0.066253\n",
       "0    0.273294\n",
       "3    0.590416\n",
       "2    1.118326\n",
       "1    2.440416\n",
       "dtype: float64"
      ]
     },
     "execution_count": 55,
     "metadata": {},
     "output_type": "execute_result"
    }
   ],
   "source": [
    "# sort() nos ordena los valores\n",
    "serie.sort_values()"
   ]
  },
  {
   "cell_type": "code",
   "execution_count": 56,
   "metadata": {},
   "outputs": [
    {
     "data": {
      "text/plain": [
       "0    0.273294\n",
       "1    2.440416\n",
       "2    1.118326\n",
       "3    0.590416\n",
       "4   -0.838060\n",
       "5   -1.612084\n",
       "6   -0.884848\n",
       "7   -0.066253\n",
       "8   -1.971906\n",
       "9   -0.892341\n",
       "dtype: float64"
      ]
     },
     "execution_count": 56,
     "metadata": {},
     "output_type": "execute_result"
    }
   ],
   "source": [
    "# mientras que index() nos muestra la serie inicial\n",
    "serie.sort_index()"
   ]
  },
  {
   "cell_type": "code",
   "execution_count": null,
   "metadata": {},
   "outputs": [],
   "source": []
  }
 ],
 "metadata": {
  "kernelspec": {
   "display_name": "Python 3.8.2 64-bit",
   "language": "python",
   "name": "python38264bit0d89407e10104d4f89d7b40f85d57db9"
  },
  "language_info": {
   "codemirror_mode": {
    "name": "ipython",
    "version": 3
   },
   "file_extension": ".py",
   "mimetype": "text/x-python",
   "name": "python",
   "nbconvert_exporter": "python",
   "pygments_lexer": "ipython3",
   "version": "3.8.2"
  }
 },
 "nbformat": 4,
 "nbformat_minor": 4
}
