{
 "cells": [
  {
   "cell_type": "code",
   "execution_count": 1,
   "metadata": {},
   "outputs": [],
   "source": [
    "# 43 Numpy\n",
    "# NumPy es una extensión de Python, que le agrega mayor soporte para vectores y matrices, \n",
    "# constituyendo una biblioteca de funciones matemáticas de alto nivel para operar con esos vectores o matrices."
   ]
  },
  {
   "cell_type": "code",
   "execution_count": 2,
   "metadata": {},
   "outputs": [],
   "source": [
    "# Necesitamos importarlo, para que sea comodo le voy a asignar el alias de np\n",
    "import numpy as np"
   ]
  },
  {
   "cell_type": "code",
   "execution_count": 3,
   "metadata": {},
   "outputs": [
    {
     "name": "stdout",
     "output_type": "stream",
     "text": [
      "[0. 0. 0. 0.]\n",
      "[1. 1. 1. 1. 1.]\n",
      "[ 2  5  8 11 14 17]\n"
     ]
    }
   ],
   "source": [
    "# tiene un monton de metodos\n",
    "# https://numpy.org/doc\n",
    "\n",
    "print(np.zeros(4))\n",
    "print(np.ones(5))\n",
    "print(np.arange(2,20,3))"
   ]
  },
  {
   "cell_type": "code",
   "execution_count": 4,
   "metadata": {},
   "outputs": [
    {
     "data": {
      "text/plain": [
       "array([[ 1.  ,  2.  ,  3.  ,  4.  ],\n",
       "       [34.  , 56.  ,  2.  ,  7.  ],\n",
       "       [ 3.14, 14.  , 15.  , 92.  ]])"
      ]
     },
     "execution_count": 4,
     "metadata": {},
     "output_type": "execute_result"
    }
   ],
   "source": [
    "# Con numpy podemos hacer arrays de listas\n",
    "\n",
    "l1 = [1,2,3,4]\n",
    "l2 = [34,56,2,7]\n",
    "l3 = [3.14,14,15,92]\n",
    "\n",
    "l_multi = (l1,l2,l3)\n",
    "array = np.array(l_multi)\n",
    "\n",
    "array"
   ]
  },
  {
   "cell_type": "code",
   "execution_count": 5,
   "metadata": {},
   "outputs": [
    {
     "name": "stdout",
     "output_type": "stream",
     "text": [
      "[[  2.     4.     6.     8.  ]\n",
      " [ 68.   112.     4.    14.  ]\n",
      " [  6.28  28.    30.   184.  ]]\n"
     ]
    },
    {
     "data": {
      "text/plain": [
       "array([[ 1.  ,  2.  ,  3.  ,  4.  ],\n",
       "       [34.  , 56.  ,  2.  ,  7.  ],\n",
       "       [ 3.14, 14.  , 15.  , 92.  ]])"
      ]
     },
     "execution_count": 5,
     "metadata": {},
     "output_type": "execute_result"
    }
   ],
   "source": [
    "# Operaciones con arrays (+,-,*,/,**)\n",
    "# hay que tener en cuenta que las operaciones no modifican el array\n",
    "\n",
    "print(array * 2)\n",
    "\n",
    "array"
   ]
  },
  {
   "cell_type": "code",
   "execution_count": 6,
   "metadata": {},
   "outputs": [
    {
     "data": {
      "text/plain": [
       "array([[-2.14, -1.14, -0.14,  0.86],\n",
       "       [30.86, 52.86, -1.14,  3.86],\n",
       "       [ 0.  , 10.86, 11.86, 88.86]])"
      ]
     },
     "execution_count": 6,
     "metadata": {},
     "output_type": "execute_result"
    }
   ],
   "source": [
    "# para eso tendremos que hacerlo como normalmente\n",
    "array = array - 3.14\n",
    "array"
   ]
  },
  {
   "cell_type": "code",
   "execution_count": 7,
   "metadata": {},
   "outputs": [
    {
     "name": "stdout",
     "output_type": "stream",
     "text": [
      "float64\n",
      "(3, 4)\n"
     ]
    },
    {
     "data": {
      "text/plain": [
       "array([[-2.14, -1.14, -0.14,  0.86],\n",
       "       [30.86, 52.86, -1.14,  3.86],\n",
       "       [ 0.  , 10.86, 11.86, 88.86]])"
      ]
     },
     "execution_count": 7,
     "metadata": {},
     "output_type": "execute_result"
    }
   ],
   "source": [
    "# Podemos ver el tipo y estructura del array\n",
    "\n",
    "print(array.dtype)\n",
    "print(array.shape)\n",
    "array"
   ]
  },
  {
   "cell_type": "code",
   "execution_count": 8,
   "metadata": {},
   "outputs": [
    {
     "name": "stdout",
     "output_type": "stream",
     "text": [
      "[ 0  1  2  3  4  5  6  7  8  9 10]\n"
     ]
    },
    {
     "data": {
      "text/plain": [
       "array([3, 4, 5, 6])"
      ]
     },
     "execution_count": 8,
     "metadata": {},
     "output_type": "execute_result"
    }
   ],
   "source": [
    "# Podemos indexar el array como ya conocemos\n",
    "\n",
    "a1 = np.arange(11)\n",
    "\n",
    "print(a1)\n",
    "\n",
    "a1[3:7]"
   ]
  },
  {
   "cell_type": "code",
   "execution_count": 9,
   "metadata": {},
   "outputs": [
    {
     "name": "stdout",
     "output_type": "stream",
     "text": [
      "[[1 2 3]\n",
      " [4 5 6]\n",
      " [7 8 9]]\n"
     ]
    },
    {
     "data": {
      "text/plain": [
       "5"
      ]
     },
     "execution_count": 9,
     "metadata": {},
     "output_type": "execute_result"
    }
   ],
   "source": [
    "a2 = np.array(([1,2,3],[4,5,6],[7,8,9]))\n",
    "\n",
    "print(a2)\n",
    "\n",
    "a2[1][1]"
   ]
  },
  {
   "cell_type": "code",
   "execution_count": 10,
   "metadata": {},
   "outputs": [
    {
     "name": "stdout",
     "output_type": "stream",
     "text": [
      "[[ 0  1  2  3  4]\n",
      " [ 5  6  7  8  9]\n",
      " [10 11 12 13 14]]\n"
     ]
    },
    {
     "data": {
      "text/plain": [
       "array([[ 0,  5, 10],\n",
       "       [ 1,  6, 11],\n",
       "       [ 2,  7, 12],\n",
       "       [ 3,  8, 13],\n",
       "       [ 4,  9, 14]])"
      ]
     },
     "execution_count": 10,
     "metadata": {},
     "output_type": "execute_result"
    }
   ],
   "source": [
    "# con numpy es muy sencillo hacer matrices transpuestas\n",
    "\n",
    "a1 = np.arange(15).reshape((3,5))\n",
    "print(a1)\n",
    "\n",
    "a2 = a1.T\n",
    "a2\n"
   ]
  },
  {
   "cell_type": "code",
   "execution_count": 11,
   "metadata": {},
   "outputs": [
    {
     "data": {
      "text/plain": [
       "array([0, 1, 2, 3, 4, 5])"
      ]
     },
     "execution_count": 11,
     "metadata": {},
     "output_type": "execute_result"
    }
   ],
   "source": [
    "# entrada y salida de arrays\n",
    "# podemos guardarlos y cargarlos como ficheros numpy\n",
    "\n",
    "a1 = np.arange(6)\n",
    "np.save('a1S', a1)\n",
    "np.load('a1S.npy')"
   ]
  },
  {
   "cell_type": "code",
   "execution_count": 12,
   "metadata": {},
   "outputs": [
    {
     "data": {
      "text/plain": [
       "array([0, 1, 2, 3, 4, 5])"
      ]
     },
     "execution_count": 12,
     "metadata": {},
     "output_type": "execute_result"
    }
   ],
   "source": [
    "a2 = np.arange(8)\n",
    "np.savez('arrays',x=a1,y=a2)\n",
    "arrays = np.load('arrays.npz')\n",
    "arrays['x']"
   ]
  },
  {
   "cell_type": "code",
   "execution_count": 13,
   "metadata": {},
   "outputs": [
    {
     "data": {
      "text/plain": [
       "array([0., 1., 2., 3., 4., 5., 6., 7.])"
      ]
     },
     "execution_count": 13,
     "metadata": {},
     "output_type": "execute_result"
    }
   ],
   "source": [
    "# o como txt, en este caso indicamos con la , donde se hace la division del array\n",
    "\n",
    "np.savetxt('arrays.txt',a2,delimiter=',')\n",
    "np.loadtxt('arrays.txt',delimiter=',')"
   ]
  },
  {
   "cell_type": "code",
   "execution_count": 14,
   "metadata": {},
   "outputs": [
    {
     "data": {
      "text/plain": [
       "array([0.        , 1.        , 1.41421356, 1.73205081, 2.        ])"
      ]
     },
     "execution_count": 14,
     "metadata": {},
     "output_type": "execute_result"
    }
   ],
   "source": [
    "# ejemplos de Funciones con arrays\n",
    "a1 = np.arange(5)\n",
    "np.sqrt(a1)"
   ]
  },
  {
   "cell_type": "code",
   "execution_count": 15,
   "metadata": {},
   "outputs": [
    {
     "data": {
      "text/plain": [
       "array([0.84887917, 0.88921455, 0.06381179, 0.97295379, 0.58384565])"
      ]
     },
     "execution_count": 15,
     "metadata": {},
     "output_type": "execute_result"
    }
   ],
   "source": [
    "np.random.rand(5)"
   ]
  },
  {
   "cell_type": "code",
   "execution_count": 16,
   "metadata": {},
   "outputs": [
    {
     "name": "stdout",
     "output_type": "stream",
     "text": [
      "[0 1 2 3 4]\n",
      "[5 6 1 2 0]\n"
     ]
    },
    {
     "data": {
      "text/plain": [
       "array([5, 6, 2, 3, 4])"
      ]
     },
     "execution_count": 16,
     "metadata": {},
     "output_type": "execute_result"
    }
   ],
   "source": [
    "\n",
    "a1 = np.arange(5)\n",
    "l1 = [5,6,1,2,0]\n",
    "a2 = np.array(l1)\n",
    "\n",
    "print(a1)\n",
    "print(a2)\n",
    "\n",
    "np.add(a1,a2)\n",
    "np.maximum(a1,a2)"
   ]
  },
  {
   "cell_type": "code",
   "execution_count": null,
   "metadata": {},
   "outputs": [],
   "source": []
  }
 ],
 "metadata": {
  "kernelspec": {
   "display_name": "Python 3.8.2 64-bit",
   "language": "python",
   "name": "python38264bit0d89407e10104d4f89d7b40f85d57db9"
  },
  "language_info": {
   "codemirror_mode": {
    "name": "ipython",
    "version": 3
   },
   "file_extension": ".py",
   "mimetype": "text/x-python",
   "name": "python",
   "nbconvert_exporter": "python",
   "pygments_lexer": "ipython3",
   "version": "3.8.2"
  }
 },
 "nbformat": 4,
 "nbformat_minor": 4
}
