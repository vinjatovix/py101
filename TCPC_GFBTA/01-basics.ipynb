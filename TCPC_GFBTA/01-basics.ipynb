{
 "cells": [
  {
   "cell_type": "markdown",
   "metadata": {},
   "source": [
    "# POO"
   ]
  },
  {
   "cell_type": "markdown",
   "metadata": {},
   "source": [
    "### Objetos\n",
    "\n",
    "En python todo es un objeto.\n",
    "Esto quiere decir que todo puede ser asignado a una variable o pasado como argumento a una función.\n",
    "\n",
    "Todo puede tener atributos y métodos... o no tenerlos.\n",
    "\n",
    "Todas las funciones tienen un atributo llamado '_doc_' que devuelve la documentacion definida en el codigo fuente de la funcion\n",
    "\n",
    "El módulo 'sys' es un objeto que tiene un atributo llamado 'path'\n",
    "\n",
    "### Método\n",
    "\n",
    "Son operaciones que pueden ser realizadas en un tipo de objeto en particular, al que suele venir unido.\n",
    "\n",
    "Un coche se puede encender. un coche es un objeto y encenderlo un método"
   ]
  },
  {
   "cell_type": "code",
   "execution_count": 1,
   "metadata": {},
   "outputs": [
    {
     "data": {
      "text/plain": [
       "'HOLA'"
      ]
     },
     "execution_count": 1,
     "metadata": {},
     "output_type": "execute_result"
    }
   ],
   "source": [
    "# el mñetodo upper está vinculado a los strings\n",
    "\n",
    "s = 'hola'\n",
    "s.upper()"
   ]
  },
  {
   "cell_type": "markdown",
   "metadata": {},
   "source": [
    "# Tipos de datos\n",
    "\n",
    "booleans: True, False\n",
    "\n",
    "numbers: 1\n",
    "\n",
    "strings: 'hola'\n",
    "\n",
    "bytes and byte arrays (por ejempjo jpg)\n",
    "\n",
    "lists: ['A','B']\n",
    "\n",
    "tuples: ('a','b')\n",
    "\n",
    "dictionaries: {'rojo':'red','verde':'green'}\n",
    "'''\n",
    "     \n"
   ]
  },
  {
   "cell_type": "markdown",
   "metadata": {},
   "source": [
    "# Nombres de variables\n",
    "\n",
    "· no pueden ser palabras reservadas del lenguaje\n",
    "\n",
    "· no pueden empezar con un numero\n",
    "\n",
    "· no pueden tener espacios\n",
    "\n",
    "· pueden tener barras_bajas\n",
    "\n",
    "· _pueden empezar por _\n",
    "\n",
    "· se recomienda lowerCamelCase"
   ]
  },
  {
   "cell_type": "code",
   "execution_count": 2,
   "metadata": {},
   "outputs": [],
   "source": [
    "fraseVariable1 = 'Esto es una variable'"
   ]
  },
  {
   "cell_type": "markdown",
   "metadata": {},
   "source": [
    "# 1 .- Strings"
   ]
  },
  {
   "cell_type": "markdown",
   "metadata": {},
   "source": [
    "### 1.1.- Un string es una cadena de caracteres alfanuméricos considerados no números.\n",
    "\n",
    "Los strings siempre van entre comillas ' ' o comillas dobles.\n",
    "\" \" "
   ]
  },
  {
   "cell_type": "code",
   "execution_count": 3,
   "metadata": {},
   "outputs": [
    {
     "data": {
      "text/plain": [
       "int"
      ]
     },
     "execution_count": 3,
     "metadata": {},
     "output_type": "execute_result"
    }
   ],
   "source": [
    "type(6)"
   ]
  },
  {
   "cell_type": "code",
   "execution_count": 4,
   "metadata": {},
   "outputs": [
    {
     "data": {
      "text/plain": [
       "str"
      ]
     },
     "execution_count": 4,
     "metadata": {},
     "output_type": "execute_result"
    }
   ],
   "source": [
    "type('texto')"
   ]
  },
  {
   "cell_type": "code",
   "execution_count": 5,
   "metadata": {},
   "outputs": [
    {
     "data": {
      "text/plain": [
       "str"
      ]
     },
     "execution_count": 5,
     "metadata": {},
     "output_type": "execute_result"
    }
   ],
   "source": [
    "type('6')"
   ]
  },
  {
   "cell_type": "markdown",
   "metadata": {},
   "source": [
    "#### A veces queremos poner algun caracter prohibido en la cadena"
   ]
  },
  {
   "cell_type": "code",
   "execution_count": 6,
   "metadata": {},
   "outputs": [
    {
     "data": {
      "text/plain": [
       "\"C'thulu\""
      ]
     },
     "execution_count": 6,
     "metadata": {},
     "output_type": "execute_result"
    }
   ],
   "source": [
    "'C\\'thulu'"
   ]
  },
  {
   "cell_type": "code",
   "execution_count": 7,
   "metadata": {},
   "outputs": [
    {
     "name": "stdout",
     "output_type": "stream",
     "text": [
      "C:\\usr\\home\n"
     ]
    }
   ],
   "source": [
    "print(r'C:\\usr\\home')"
   ]
  },
  {
   "cell_type": "code",
   "execution_count": 8,
   "metadata": {},
   "outputs": [],
   "source": [
    "frase = '''\n",
    "Ejemplo de impresión \\'Multilinea\\'\n",
    "    la indentación cuenta.\n",
    "'''"
   ]
  },
  {
   "cell_type": "markdown",
   "metadata": {},
   "source": [
    "## 1.2 Manipulando strings\n",
    "#### Podemos encadenar strings"
   ]
  },
  {
   "cell_type": "code",
   "execution_count": 9,
   "metadata": {},
   "outputs": [
    {
     "data": {
      "text/plain": [
       "'Holamundo'"
      ]
     },
     "execution_count": 9,
     "metadata": {},
     "output_type": "execute_result"
    }
   ],
   "source": [
    "'Hola'+'mundo'"
   ]
  },
  {
   "cell_type": "code",
   "execution_count": 10,
   "metadata": {},
   "outputs": [
    {
     "data": {
      "text/plain": [
       "'Hola mundo'"
      ]
     },
     "execution_count": 10,
     "metadata": {},
     "output_type": "execute_result"
    }
   ],
   "source": [
    "'Hola' + ' ' + 'mundo'\n"
   ]
  },
  {
   "cell_type": "code",
   "execution_count": 11,
   "metadata": {},
   "outputs": [
    {
     "data": {
      "text/plain": [
       "'Hola mundo'"
      ]
     },
     "execution_count": 11,
     "metadata": {},
     "output_type": "execute_result"
    }
   ],
   "source": [
    "'Hola ' + 'mundo'"
   ]
  },
  {
   "cell_type": "code",
   "execution_count": 12,
   "metadata": {},
   "outputs": [
    {
     "data": {
      "text/plain": [
       "'HolaHola'"
      ]
     },
     "execution_count": 12,
     "metadata": {},
     "output_type": "execute_result"
    }
   ],
   "source": [
    "'Hola'*2"
   ]
  },
  {
   "cell_type": "markdown",
   "metadata": {},
   "source": [
    "### 1.2.- Indexando strings\n",
    "\n",
    "[0] siempre es la primera posición "
   ]
  },
  {
   "cell_type": "code",
   "execution_count": 13,
   "metadata": {},
   "outputs": [
    {
     "data": {
      "text/plain": [
       "'H'"
      ]
     },
     "execution_count": 13,
     "metadata": {},
     "output_type": "execute_result"
    }
   ],
   "source": [
    "palabra = 'Hola'\n",
    "\n",
    "palabra[0]"
   ]
  },
  {
   "cell_type": "code",
   "execution_count": 14,
   "metadata": {},
   "outputs": [
    {
     "data": {
      "text/plain": [
       "'a'"
      ]
     },
     "execution_count": 14,
     "metadata": {},
     "output_type": "execute_result"
    }
   ],
   "source": [
    "palabra[3]"
   ]
  },
  {
   "cell_type": "markdown",
   "metadata": {},
   "source": [
    "Podemos indicar un rango"
   ]
  },
  {
   "cell_type": "code",
   "execution_count": 15,
   "metadata": {},
   "outputs": [
    {
     "data": {
      "text/plain": [
       "'Ho'"
      ]
     },
     "execution_count": 15,
     "metadata": {},
     "output_type": "execute_result"
    }
   ],
   "source": [
    "palabra[:2]"
   ]
  },
  {
   "cell_type": "markdown",
   "metadata": {},
   "source": [
    "Comenzar desde el final"
   ]
  },
  {
   "cell_type": "code",
   "execution_count": 16,
   "metadata": {},
   "outputs": [
    {
     "data": {
      "text/plain": [
       "'a'"
      ]
     },
     "execution_count": 16,
     "metadata": {},
     "output_type": "execute_result"
    }
   ],
   "source": [
    "palabra[-1]"
   ]
  },
  {
   "cell_type": "markdown",
   "metadata": {},
   "source": [
    "Darle la vuelta"
   ]
  },
  {
   "cell_type": "code",
   "execution_count": 17,
   "metadata": {},
   "outputs": [
    {
     "data": {
      "text/plain": [
       "'aloH'"
      ]
     },
     "execution_count": 17,
     "metadata": {},
     "output_type": "execute_result"
    }
   ],
   "source": [
    "palabra[::-1]"
   ]
  },
  {
   "cell_type": "markdown",
   "metadata": {},
   "source": [
    "y combinarlos"
   ]
  },
  {
   "cell_type": "code",
   "execution_count": 18,
   "metadata": {},
   "outputs": [
    {
     "data": {
      "text/plain": [
       "'aH'"
      ]
     },
     "execution_count": 18,
     "metadata": {},
     "output_type": "execute_result"
    }
   ],
   "source": [
    "palabra[::-3]"
   ]
  },
  {
   "cell_type": "code",
   "execution_count": 19,
   "metadata": {},
   "outputs": [
    {
     "data": {
      "text/plain": [
       "'Ho'"
      ]
     },
     "execution_count": 19,
     "metadata": {},
     "output_type": "execute_result"
    }
   ],
   "source": [
    "palabra[:-2]"
   ]
  },
  {
   "cell_type": "markdown",
   "metadata": {},
   "source": [
    "### Los strings soportan una gran cantidad de operaciones\n",
    "\n",
    "Puedes obtener una lista de ellos usando la funcion dir() sobre un string"
   ]
  },
  {
   "cell_type": "code",
   "execution_count": 20,
   "metadata": {},
   "outputs": [
    {
     "data": {
      "text/plain": [
       "['__add__',\n",
       " '__class__',\n",
       " '__contains__',\n",
       " '__delattr__',\n",
       " '__dir__',\n",
       " '__doc__',\n",
       " '__eq__',\n",
       " '__format__',\n",
       " '__ge__',\n",
       " '__getattribute__',\n",
       " '__getitem__',\n",
       " '__getnewargs__',\n",
       " '__gt__',\n",
       " '__hash__',\n",
       " '__init__',\n",
       " '__init_subclass__',\n",
       " '__iter__',\n",
       " '__le__',\n",
       " '__len__',\n",
       " '__lt__',\n",
       " '__mod__',\n",
       " '__mul__',\n",
       " '__ne__',\n",
       " '__new__',\n",
       " '__reduce__',\n",
       " '__reduce_ex__',\n",
       " '__repr__',\n",
       " '__rmod__',\n",
       " '__rmul__',\n",
       " '__setattr__',\n",
       " '__sizeof__',\n",
       " '__str__',\n",
       " '__subclasshook__',\n",
       " 'capitalize',\n",
       " 'casefold',\n",
       " 'center',\n",
       " 'count',\n",
       " 'encode',\n",
       " 'endswith',\n",
       " 'expandtabs',\n",
       " 'find',\n",
       " 'format',\n",
       " 'format_map',\n",
       " 'index',\n",
       " 'isalnum',\n",
       " 'isalpha',\n",
       " 'isascii',\n",
       " 'isdecimal',\n",
       " 'isdigit',\n",
       " 'isidentifier',\n",
       " 'islower',\n",
       " 'isnumeric',\n",
       " 'isprintable',\n",
       " 'isspace',\n",
       " 'istitle',\n",
       " 'isupper',\n",
       " 'join',\n",
       " 'ljust',\n",
       " 'lower',\n",
       " 'lstrip',\n",
       " 'maketrans',\n",
       " 'partition',\n",
       " 'replace',\n",
       " 'rfind',\n",
       " 'rindex',\n",
       " 'rjust',\n",
       " 'rpartition',\n",
       " 'rsplit',\n",
       " 'rstrip',\n",
       " 'split',\n",
       " 'splitlines',\n",
       " 'startswith',\n",
       " 'strip',\n",
       " 'swapcase',\n",
       " 'title',\n",
       " 'translate',\n",
       " 'upper',\n",
       " 'zfill']"
      ]
     },
     "execution_count": 20,
     "metadata": {},
     "output_type": "execute_result"
    }
   ],
   "source": [
    "dir('x')"
   ]
  },
  {
   "cell_type": "code",
   "execution_count": 21,
   "metadata": {},
   "outputs": [
    {
     "data": {
      "text/plain": [
       "'123'"
      ]
     },
     "execution_count": 21,
     "metadata": {},
     "output_type": "execute_result"
    }
   ],
   "source": [
    "# por ejemplo\n",
    "\n",
    "s = '-123'\n",
    "t = s.replace('-','',1)\n",
    "t"
   ]
  },
  {
   "cell_type": "code",
   "execution_count": 22,
   "metadata": {},
   "outputs": [
    {
     "data": {
      "text/plain": [
       "2"
      ]
     },
     "execution_count": 22,
     "metadata": {},
     "output_type": "execute_result"
    }
   ],
   "source": [
    "# count\n",
    "fraseVariable1.count('s')"
   ]
  },
  {
   "cell_type": "markdown",
   "metadata": {},
   "source": [
    "## Leyendo y escribiendo archivos"
   ]
  },
  {
   "cell_type": "markdown",
   "metadata": {},
   "source": [
    "### Hay que tener cuidado con la w ya que le estamos diciendo a python que escriba en el archivo, con lo que si tiene datos anteriores, los vamos a sobreescribir"
   ]
  },
  {
   "cell_type": "code",
   "execution_count": 23,
   "metadata": {},
   "outputs": [],
   "source": [
    "file = open(r'C:\\Users\\vinja\\Alma-Zen\\py101\\test\\txt1.txt', 'w')\n",
    "file.write('Este es un ejemplo de texto.')\n",
    "file.close()"
   ]
  },
  {
   "cell_type": "code",
   "execution_count": 24,
   "metadata": {},
   "outputs": [],
   "source": [
    "file = file = open(r'C:\\Users\\vinja\\Alma-Zen\\py101\\test\\txt1.txt', 'a')\n",
    "file.write(' Este es el texto añadido')\n",
    "file.close()"
   ]
  },
  {
   "cell_type": "markdown",
   "metadata": {},
   "source": [
    "# Indentado el código\n",
    "\n",
    "En python, los bloques de código se definen segñun su indentación (sangrado), no hacen falta paréntesis(), corchetes{} o palabras clave para indicar cuando empieza y termina el bloque. simplemente indentando.\n",
    "\n"
   ]
  },
  {
   "cell_type": "markdown",
   "metadata": {},
   "source": [
    "# Comentando el código\n",
    "\n",
    "A medida que los programas crecen se hacen más dificiles de leer. es una buena practica documentar el códigp con comentarios."
   ]
  },
  {
   "cell_type": "code",
   "execution_count": 25,
   "metadata": {},
   "outputs": [],
   "source": [
    "# Esto es un comentario de una sola linea"
   ]
  },
  {
   "cell_type": "code",
   "execution_count": 26,
   "metadata": {},
   "outputs": [
    {
     "data": {
      "text/plain": [
       "'\\nEsto es un comentario\\nMultilínea\\n\\nDocumentar tu código te sirve \\npara crear documentacion automática con \\nDocstrings y pydoc\\n'"
      ]
     },
     "execution_count": 26,
     "metadata": {},
     "output_type": "execute_result"
    }
   ],
   "source": [
    "'''\n",
    "Esto es un comentario\n",
    "Multilínea\n",
    "\n",
    "Documentar tu código te sirve \n",
    "para crear documentacion automática con \n",
    "Docstrings y pydoc\n",
    "'''"
   ]
  },
  {
   "cell_type": "markdown",
   "metadata": {},
   "source": [
    "# Funciones\n",
    "\n",
    "Bloque de codigo organizado y reutilizable"
   ]
  },
  {
   "cell_type": "code",
   "execution_count": 27,
   "metadata": {},
   "outputs": [
    {
     "name": "stdout",
     "output_type": "stream",
     "text": [
      "se abrió\n"
     ]
    }
   ],
   "source": [
    "# Las funciones se declaran asi\n",
    "\n",
    "def abrir():\n",
    "    print('se abrió')\n",
    "    \n",
    "# y se invocan así\n",
    "abrir()"
   ]
  },
  {
   "cell_type": "code",
   "execution_count": 28,
   "metadata": {},
   "outputs": [],
   "source": [
    "# parámetros"
   ]
  },
  {
   "cell_type": "code",
   "execution_count": 29,
   "metadata": {},
   "outputs": [
    {
     "name": "stdout",
     "output_type": "stream",
     "text": [
      "Hpla Pablo\n"
     ]
    }
   ],
   "source": [
    "def saludar(nombre):\n",
    "    ''' Esta función recibe un parámetro nombre y saluda'''\n",
    "    print(f'Hpla {nombre}')\n",
    "    return;\n",
    "    \n",
    "saludar('Pablo')"
   ]
  },
  {
   "cell_type": "markdown",
   "metadata": {},
   "source": [
    "## print()"
   ]
  },
  {
   "cell_type": "code",
   "execution_count": 30,
   "metadata": {},
   "outputs": [
    {
     "name": "stdout",
     "output_type": "stream",
     "text": [
      "La suma de 3 y 5 es 8\n"
     ]
    }
   ],
   "source": [
    "x = 3\n",
    "y = 5\n",
    "print ( 'La suma de', x, 'y', y, 'es' , x + y)"
   ]
  },
  {
   "cell_type": "code",
   "execution_count": 31,
   "metadata": {},
   "outputs": [
    {
     "name": "stdout",
     "output_type": "stream",
     "text": [
      "pi = \n",
      " 3.1416\n"
     ]
    }
   ],
   "source": [
    "pi = 3.1416\n",
    "print ( 'pi = \\n', pi )"
   ]
  },
  {
   "cell_type": "code",
   "execution_count": 32,
   "metadata": {},
   "outputs": [
    {
     "name": "stdout",
     "output_type": "stream",
     "text": [
      "10\n"
     ]
    }
   ],
   "source": [
    "print ( str ( 10 ))"
   ]
  },
  {
   "cell_type": "markdown",
   "metadata": {},
   "source": [
    "# Escape codes\n",
    "\n",
    "\\ tiene el poder magico que sacar al siguiente caracter del código\n",
    "quiere decir que no será interpretado de manera especial\n"
   ]
  },
  {
   "cell_type": "code",
   "execution_count": 33,
   "metadata": {},
   "outputs": [],
   "source": [
    "path = 'c:\\\\home'\n",
    "path = r'c:\\home'"
   ]
  },
  {
   "cell_type": "code",
   "execution_count": 34,
   "metadata": {},
   "outputs": [
    {
     "name": "stdout",
     "output_type": "stream",
     "text": [
      "c:\\home\n"
     ]
    }
   ],
   "source": [
    "print(path)"
   ]
  },
  {
   "cell_type": "code",
   "execution_count": 35,
   "metadata": {},
   "outputs": [
    {
     "name": "stdout",
     "output_type": "stream",
     "text": [
      "c:\n",
      "uevo\n"
     ]
    }
   ],
   "source": [
    "print('c:\\nuevo')"
   ]
  },
  {
   "cell_type": "code",
   "execution_count": 36,
   "metadata": {},
   "outputs": [
    {
     "name": "stdout",
     "output_type": "stream",
     "text": [
      "c:\teatro\n"
     ]
    }
   ],
   "source": [
    "print('c:\\teatro')"
   ]
  },
  {
   "cell_type": "code",
   "execution_count": 37,
   "metadata": {},
   "outputs": [
    {
     "name": "stdout",
     "output_type": "stream",
     "text": [
      "aqui \tengo un \u000b",
      " tab vertical\n"
     ]
    }
   ],
   "source": [
    "print('aqui \\tengo un \\v tab vertical')"
   ]
  },
  {
   "cell_type": "code",
   "execution_count": 38,
   "metadata": {},
   "outputs": [
    {
     "name": "stdout",
     "output_type": "stream",
     "text": [
      "tengo un bacspace\n"
     ]
    }
   ],
   "source": [
    "print('tengo un back\\bspace')"
   ]
  },
  {
   "cell_type": "code",
   "execution_count": 39,
   "metadata": {},
   "outputs": [
    {
     "name": "stdout",
     "output_type": "stream",
     "text": [
      "texto\u0007texto\n"
     ]
    }
   ],
   "source": [
    "print('texto\\atexto')"
   ]
  },
  {
   "cell_type": "code",
   "execution_count": 40,
   "metadata": {},
   "outputs": [
    {
     "name": "stdout",
     "output_type": "stream",
     "text": [
      "texto\f",
      " texto\n"
     ]
    }
   ],
   "source": [
    "print('texto\\f texto')"
   ]
  },
  {
   "cell_type": "code",
   "execution_count": 41,
   "metadata": {},
   "outputs": [
    {
     "name": "stdout",
     "output_type": "stream",
     "text": [
      "texto\n",
      "texto\n"
     ]
    }
   ],
   "source": [
    "print('texto\\ntexto')"
   ]
  },
  {
   "cell_type": "code",
   "execution_count": 42,
   "metadata": {},
   "outputs": [
    {
     "name": "stdout",
     "output_type": "stream",
     "text": [
      "texto\n"
     ]
    }
   ],
   "source": [
    "print('texto\\rtexto')"
   ]
  },
  {
   "cell_type": "markdown",
   "metadata": {},
   "source": [
    "## input"
   ]
  },
  {
   "cell_type": "code",
   "execution_count": 43,
   "metadata": {},
   "outputs": [
    {
     "name": "stdin",
     "output_type": "stream",
     "text": [
      "¿Cómo te llamas? Pablo\n"
     ]
    },
    {
     "name": "stdout",
     "output_type": "stream",
     "text": [
      "hola Pablo\n"
     ]
    }
   ],
   "source": [
    "nombre = input('¿Cómo te llamas?')\n",
    "print(f'hola {nombre}')"
   ]
  },
  {
   "cell_type": "markdown",
   "metadata": {},
   "source": [
    "# Variables Globales\n",
    "\n",
    "son visibles a lo largo del programa en cualquier lugar de el a no ser que esten ocultas.\n",
    "al set de todas las variables gobales se le llama entorno global,\n",
    "No es aconsejable dejar las varaibles sueltas\n",
    "\n",
    "# Variable local\n",
    "\n",
    "Una variable local es aquella que vive dentro del ambito de una funcion, o como argumento porque es pasado a una funcion\n",
    "\n",
    "Mientras que en otros programas las variables son tratadas principalmente de manera global en python trabajamos al reves,\n",
    "las variabes son locales a no ser que se especifique lo contrario"
   ]
  },
  {
   "cell_type": "code",
   "execution_count": 44,
   "metadata": {},
   "outputs": [
    {
     "name": "stdout",
     "output_type": "stream",
     "text": [
      "Santiago\n",
      "Lugo\n"
     ]
    }
   ],
   "source": [
    "# la s de santiago vive en el ambito local por eso la s de Lugo\n",
    "# no se ha visto modificada\n",
    "\n",
    "def p():\n",
    "    s = 'Santiago'\n",
    "    print(s)\n",
    "\n",
    "s = 'Lugo'\n",
    "p()\n",
    "print(s)"
   ]
  },
  {
   "cell_type": "code",
   "execution_count": 45,
   "metadata": {},
   "outputs": [
    {
     "ename": "UnboundLocalError",
     "evalue": "local variable 's' referenced before assignment",
     "output_type": "error",
     "traceback": [
      "\u001b[1;31m---------------------------------------------------------------------------\u001b[0m",
      "\u001b[1;31mUnboundLocalError\u001b[0m                         Traceback (most recent call last)",
      "\u001b[1;32m<ipython-input-45-5da973bf1d25>\u001b[0m in \u001b[0;36m<module>\u001b[1;34m\u001b[0m\n\u001b[0;32m      7\u001b[0m \u001b[1;33m\u001b[0m\u001b[0m\n\u001b[0;32m      8\u001b[0m \u001b[0ms\u001b[0m \u001b[1;33m=\u001b[0m \u001b[1;34m'Lugo'\u001b[0m\u001b[1;33m\u001b[0m\u001b[1;33m\u001b[0m\u001b[0m\n\u001b[1;32m----> 9\u001b[1;33m \u001b[0mp\u001b[0m\u001b[1;33m(\u001b[0m\u001b[1;33m)\u001b[0m\u001b[1;33m\u001b[0m\u001b[1;33m\u001b[0m\u001b[0m\n\u001b[0m\u001b[0;32m     10\u001b[0m \u001b[0mprint\u001b[0m\u001b[1;33m(\u001b[0m\u001b[0ms\u001b[0m\u001b[1;33m)\u001b[0m\u001b[1;33m\u001b[0m\u001b[1;33m\u001b[0m\u001b[0m\n",
      "\u001b[1;32m<ipython-input-45-5da973bf1d25>\u001b[0m in \u001b[0;36mp\u001b[1;34m()\u001b[0m\n\u001b[0;32m      2\u001b[0m \u001b[1;33m\u001b[0m\u001b[0m\n\u001b[0;32m      3\u001b[0m \u001b[1;32mdef\u001b[0m \u001b[0mp\u001b[0m\u001b[1;33m(\u001b[0m\u001b[1;33m)\u001b[0m\u001b[1;33m:\u001b[0m\u001b[1;33m\u001b[0m\u001b[1;33m\u001b[0m\u001b[0m\n\u001b[1;32m----> 4\u001b[1;33m     \u001b[0mprint\u001b[0m\u001b[1;33m(\u001b[0m\u001b[0ms\u001b[0m\u001b[1;33m)\u001b[0m\u001b[1;33m\u001b[0m\u001b[1;33m\u001b[0m\u001b[0m\n\u001b[0m\u001b[0;32m      5\u001b[0m     \u001b[0ms\u001b[0m \u001b[1;33m=\u001b[0m \u001b[1;34m'Santiago'\u001b[0m\u001b[1;33m\u001b[0m\u001b[1;33m\u001b[0m\u001b[0m\n\u001b[0;32m      6\u001b[0m     \u001b[0mprint\u001b[0m\u001b[1;33m(\u001b[0m\u001b[0ms\u001b[0m\u001b[1;33m)\u001b[0m\u001b[1;33m\u001b[0m\u001b[1;33m\u001b[0m\u001b[0m\n",
      "\u001b[1;31mUnboundLocalError\u001b[0m: local variable 's' referenced before assignment"
     ]
    }
   ],
   "source": [
    "# una variable no puede ser global y local en la misma funcion\n",
    "\n",
    "def p():\n",
    "    print(s)\n",
    "    s = 'Santiago'\n",
    "    print(s)\n",
    "\n",
    "s = 'Lugo'\n",
    "p()\n",
    "print(s)"
   ]
  },
  {
   "cell_type": "markdown",
   "metadata": {},
   "source": [
    "# Diccionarios\n",
    "\n",
    "tienen clave y valor"
   ]
  },
  {
   "cell_type": "code",
   "execution_count": 46,
   "metadata": {},
   "outputs": [
    {
     "data": {
      "text/plain": [
       "{'rojo': 'red', 'verde': 'green'}"
      ]
     },
     "execution_count": 46,
     "metadata": {},
     "output_type": "execute_result"
    }
   ],
   "source": [
    "d = {'rojo':'red','verde':'green'}\n",
    "d"
   ]
  },
  {
   "cell_type": "code",
   "execution_count": 47,
   "metadata": {},
   "outputs": [
    {
     "data": {
      "text/plain": [
       "'red'"
      ]
     },
     "execution_count": 47,
     "metadata": {},
     "output_type": "execute_result"
    }
   ],
   "source": [
    "d['rojo']"
   ]
  },
  {
   "cell_type": "code",
   "execution_count": 48,
   "metadata": {},
   "outputs": [
    {
     "data": {
      "text/plain": [
       "{'rojo': 'red', 'verde': 'green', 'negro': 'black'}"
      ]
     },
     "execution_count": 48,
     "metadata": {},
     "output_type": "execute_result"
    }
   ],
   "source": [
    "d ['negro'] = 'black'\n",
    "d"
   ]
  },
  {
   "cell_type": "code",
   "execution_count": 50,
   "metadata": {},
   "outputs": [
    {
     "name": "stdout",
     "output_type": "stream",
     "text": [
      "BRAVO\n"
     ]
    }
   ],
   "source": [
    "def crearDic():\n",
    "    ''' Devuelve un diccionario básico'''\n",
    "    d = {}\n",
    "    d ['A'] = 'ALPHA'\n",
    "    d ['B'] = 'BRAVO'\n",
    "    d ['C'] = 'CHARLIE'\n",
    "    return d\n",
    "    \n",
    "def main ():\n",
    "    diccionario = crearDic()\n",
    "    print(diccionario['B'])\n",
    "     \n",
    "main()"
   ]
  },
  {
   "cell_type": "code",
   "execution_count": 67,
   "metadata": {},
   "outputs": [
    {
     "data": {
      "text/plain": [
       "True"
      ]
     },
     "execution_count": 67,
     "metadata": {},
     "output_type": "execute_result"
    }
   ],
   "source": [
    "a = dict(uno = 1, dos = 2)\n",
    "\n",
    "b = { 'uno' : 1, 'dos' : 2 }\n",
    "\n",
    "c = dict ( zip ( [ 'uno', 'dos' ],  [ 1 , 2 ]))\n",
    "\n",
    "d = dict ( [ ( 'dos', 2 ), ( 'uno', 1 )])\n",
    "\n",
    "e = dict ( { 'dos' : 2, 'uno' : 1 })\n",
    "\n",
    "a == b == c == d == e"
   ]
  },
  {
   "cell_type": "markdown",
   "metadata": {},
   "source": [
    "# Gráficos"
   ]
  },
  {
   "cell_type": "code",
   "execution_count": 7,
   "metadata": {},
   "outputs": [],
   "source": [
    "hero = tt.Turtle()\n",
    "\n",
    "\n",
    "for i in range(360):\n",
    "    hero.forward(1)\n",
    "\n",
    "    hero.right(1)\n"
   ]
  },
  {
   "cell_type": "markdown",
   "metadata": {},
   "source": [
    "# clases"
   ]
  },
  {
   "cell_type": "code",
   "execution_count": 9,
   "metadata": {},
   "outputs": [
    {
     "name": "stdout",
     "output_type": "stream",
     "text": [
      "Nombre :  Pablo , Salario:  500\n",
      "Nombre :  Javier , Salario:  300\n",
      "Total 2\n"
     ]
    }
   ],
   "source": [
    "class Empleado:\n",
    "    # clase basica para todos los empleados\n",
    "    conteo = 0\n",
    "    \n",
    "    def __init__(self, nombre, salario):\n",
    "        self.nombre = nombre\n",
    "        self.salario = salario\n",
    "        Empleado.conteo += 1\n",
    "    \n",
    "    def mostrarConteo(self):\n",
    "        print('El total de empleados es %d' % Empleado.conteo)\n",
    "        \n",
    "    def mostrarEmpleado(self):\n",
    "        print('Nombre : ',self.nombre, ', Salario: ', self.salario)\n",
    "        \n",
    "    # esto va a rear un primer objeto de nuestra clase empleado\n",
    "    \n",
    "emp1 = Empleado('Pablo', 500)\n",
    "emp2 = Empleado('Javier', 300)\n",
    "\n",
    "emp1.mostrarEmpleado()\n",
    "emp2.mostrarEmpleado()\n",
    "\n",
    "print('Total %d' % Empleado.conteo)"
   ]
  },
  {
   "cell_type": "code",
   "execution_count": null,
   "metadata": {},
   "outputs": [],
   "source": []
  },
  {
   "cell_type": "markdown",
   "metadata": {},
   "source": [
    "# list comprehesion\n",
    "\n",
    "una manera de transformar una lista en otra"
   ]
  },
  {
   "cell_type": "code",
   "execution_count": 15,
   "metadata": {},
   "outputs": [
    {
     "data": {
      "text/plain": [
       "[0, 1, 2, 3, 4, 5, 6, 7, 8, 9]"
      ]
     },
     "execution_count": 15,
     "metadata": {},
     "output_type": "execute_result"
    }
   ],
   "source": [
    "nums = list(range(10))\n",
    "\n",
    "lista = []\n",
    "for n in nums:\n",
    "    lista.append(n)\n",
    "    \n",
    "lista"
   ]
  },
  {
   "cell_type": "code",
   "execution_count": 16,
   "metadata": {},
   "outputs": [
    {
     "data": {
      "text/plain": [
       "[0, 1, 2, 3, 4, 5, 6, 7, 8, 9]"
      ]
     },
     "execution_count": 16,
     "metadata": {},
     "output_type": "execute_result"
    }
   ],
   "source": [
    "lista = [n for n in nums]\n",
    "lista"
   ]
  },
  {
   "cell_type": "code",
   "execution_count": null,
   "metadata": {},
   "outputs": [],
   "source": []
  },
  {
   "cell_type": "code",
   "execution_count": 59,
   "metadata": {},
   "outputs": [],
   "source": [
    "class Node(object):\n",
    "    ''' esta clase define como son los nodos'''\n",
    "    \n",
    "    def __init__( self, d, n=None ):\n",
    "        ''' cada nodo tiene dos partes, una parte con los datos y otra que indica cual es el siguiente nodo'''\n",
    "        self.data = d\n",
    "        self.next_node = n\n",
    "        \n",
    "    def get_next( self ):\n",
    "        ''' retorna el siguiente nodo'''\n",
    "        return self.next_node\n",
    "    \n",
    "    def set_next( self, n ):\n",
    "        ''' fijamos el siguiente nodo'''\n",
    "        self.next_node = n\n",
    "        \n",
    "    def get_data( self ):\n",
    "        return self.data\n",
    "        \n",
    "    def set_data( self, d ):\n",
    "        ''' asignamos datos al nodo'''\n",
    "        self.data = d\n",
    "     \n",
    "        \n",
    "        \n",
    "        \n",
    "        \n",
    "class LinkedList(object):\n",
    "    ''' esta clase linkeara las listas con los objetos'''\n",
    "    \n",
    "    def __init__(self, r = None):\n",
    "        ''' r es el primer nodo, size indica la cantidad de nodos que tenemos linkados'''\n",
    "        self.root = r\n",
    "        self.size = 0\n",
    "        \n",
    "    def get_size(self):\n",
    "        ''' retorna la cantidad total de nodos'''\n",
    "        return self.size\n",
    "    \n",
    "    def add(self,d):\n",
    "        ''' con esto creamos un nuevo nodo, el argumento d son los datos que queremos añadir '''\n",
    "        new_node = Node (d, self.root)\n",
    "        self.root = new_node\n",
    "        self.size +=1\n",
    "    \n",
    "    def remove (self, d):\n",
    "        ''' con esto borramos un nodo, el argumento d son los datos que queremos borrar '''\n",
    "        this_node = self.root\n",
    "        prev_node = None\n",
    "        \n",
    "        while this_node:                                                # mientras que este modo:\n",
    "            if this_node.get_data() == d:                               # Sea el que tiene los datos\n",
    "                \n",
    "                if prev_node:                                               # si no es el primer nodo\n",
    "                    prev_node.set_next(this_node.get_next())                # tenemos que relinkar el anterior y el siguiente\n",
    "                \n",
    "                else:                                                       # en el caso de que sea el primer nodo,       \n",
    "                    self.root = this_node.get_next()                        # tenemos que asignar el siguiente como nodo raiz\n",
    "                    \n",
    "                self.size -= 1                                          # restamos uno a la cantidad de nodos\n",
    "                return True                                             \n",
    "            \n",
    "            else:                                                       # En caso de que no sean los datos que buscamos\n",
    "                prev_node = this_node                                   # marcamos este modo como que es el anterior\n",
    "                this_node = this_node.get_next()                        # y el siguiente modulo como el actual\n",
    "        return False \n",
    "\n",
    "            \n",
    "    def find (self, d):\n",
    "        this_node = self.root\n",
    "        while this_node:\n",
    "            if this_node.get_data() == d:\n",
    "                return d\n",
    "            else:\n",
    "                this_node = this_node.get_next()\n",
    "        return None\n",
    " \n",
    "    \n",
    "    \n",
    "lista = LinkedList()    \n",
    "\n",
    "lista.add(5)\n",
    "lista.add(8)\n",
    "lista.add(14)\n"
   ]
  },
  {
   "cell_type": "code",
   "execution_count": 60,
   "metadata": {},
   "outputs": [
    {
     "name": "stdout",
     "output_type": "stream",
     "text": [
      "True\n"
     ]
    }
   ],
   "source": [
    "print(lista.remove(8))"
   ]
  },
  {
   "cell_type": "code",
   "execution_count": 61,
   "metadata": {},
   "outputs": [
    {
     "name": "stdout",
     "output_type": "stream",
     "text": [
      "5\n"
     ]
    }
   ],
   "source": [
    "print(lista.find(5))"
   ]
  },
  {
   "cell_type": "code",
   "execution_count": null,
   "metadata": {},
   "outputs": [],
   "source": []
  }
 ],
 "metadata": {
  "kernelspec": {
   "display_name": "Python 3.8.2 64-bit",
   "language": "python",
   "name": "python38264bit0d89407e10104d4f89d7b40f85d57db9"
  },
  "language_info": {
   "codemirror_mode": {
    "name": "ipython",
    "version": 3
   },
   "file_extension": ".py",
   "mimetype": "text/x-python",
   "name": "python",
   "nbconvert_exporter": "python",
   "pygments_lexer": "ipython3",
   "version": "3.8.2"
  }
 },
 "nbformat": 4,
 "nbformat_minor": 4
}
